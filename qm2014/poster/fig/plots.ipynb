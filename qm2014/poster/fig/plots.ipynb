{
 "metadata": {
  "name": "",
  "signature": "sha256:e3b267a9c2b5e3a6782ff94da62c7aa0c457299499d64941ce41ad3be09a7165"
 },
 "nbformat": 3,
 "nbformat_minor": 0,
 "worksheets": [
  {
   "cells": [
    {
     "cell_type": "code",
     "collapsed": false,
     "input": [
      "import numpy as np\n",
      "import matplotlib.pyplot as plt\n",
      "%matplotlib qt\n",
      "import matplotlib.ticker as tick\n",
      "import brewer2mpl\n",
      "import ebedesign as dsn\n",
      "from pca_gaussian_process import PCAGaussianProcess"
     ],
     "language": "python",
     "metadata": {},
     "outputs": [],
     "prompt_number": 1
    },
    {
     "cell_type": "code",
     "collapsed": false,
     "input": [
      "figwidth, figheight = 14.65, 5.\n",
      "wpad = .4\n",
      "\n",
      "plt.rcParams.update({\n",
      "    'font.family': 'sans-serif',\n",
      "    'font.sans-serif': ['Open Sans'],\n",
      "    'font.weight': 400,\n",
      "    'font.size': 20.,\n",
      "    'axes.labelsize': 20.,\n",
      "    'axes.titlesize': 22.,\n",
      "    'xtick.labelsize': 14.,\n",
      "    'ytick.labelsize': 14.,\n",
      "    'mathtext.fontset': 'custom',\n",
      "    'mathtext.rm': 'sans',\n",
      "    'mathtext.it': 'sans:italic',\n",
      "    'mathtext.bf': 'sans:bold',\n",
      "    'mathtext.sf': 'sans',\n",
      "    'axes.linewidth': 1,\n",
      "    'figure.figsize': (figwidth, figheight)\n",
      "})\n",
      "\n",
      "grey = plt.rcParams['text.color']\n",
      "resultspath = '../../../../ebe/results/'"
     ],
     "language": "python",
     "metadata": {},
     "outputs": [],
     "prompt_number": 30
    },
    {
     "cell_type": "code",
     "collapsed": false,
     "input": [
      "ic = dsn.IC[0]\n",
      "ic"
     ],
     "language": "python",
     "metadata": {},
     "outputs": [
      {
       "metadata": {},
       "output_type": "pyout",
       "prompt_number": 40,
       "text": [
        "'glb'"
       ]
      }
     ],
     "prompt_number": 40
    },
    {
     "cell_type": "code",
     "collapsed": false,
     "input": [
      "def load_flow_params(ic, c, n):\n",
      "    mean, width = dsn.remove_outlier(np.loadtxt(resultspath + 'model/flow/{}/{}_v{}.dat'.format(ic, c, n))).T\n",
      "    ratio = width/mean\n",
      "    return np.array((mean, width, ratio)).T\n",
      "\n",
      "model = np.array([\n",
      "    [load_flow_params(ic, c, n) for n in dsn.vn] for c in dsn.cent\n",
      "]).transpose(1, 3, 2, 0)\n",
      "\n",
      "# vn, param, dpoint, cent\n",
      "model.shape"
     ],
     "language": "python",
     "metadata": {},
     "outputs": [
      {
       "metadata": {},
       "output_type": "pyout",
       "prompt_number": 41,
       "text": [
        "(3, 3, 255, 6)"
       ]
      }
     ],
     "prompt_number": 41
    },
    {
     "cell_type": "code",
     "collapsed": false,
     "input": [
      "exp = np.array([\n",
      "    [np.loadtxt(resultspath + 'exp/v{}_{}.dat'.format(n, p), unpack=True) for p in ('mean', 'width', 'ratio')] for n in dsn.vn\n",
      "])\n",
      "\n",
      "# vn, param, (npart, value, stat, syshigh, syslow)\n",
      "exp.shape"
     ],
     "language": "python",
     "metadata": {},
     "outputs": [
      {
       "metadata": {},
       "output_type": "pyout",
       "prompt_number": 42,
       "text": [
        "(3, 3, 5)"
       ]
      }
     ],
     "prompt_number": 42
    },
    {
     "cell_type": "code",
     "collapsed": false,
     "input": [
      "labels = r'$\\langle v_n \\rangle$', r'$\\sigma_{v_n}$', r'$\\sigma_{v_n} / \\langle v_n \\rangle$'\n",
      "#cmap = brewer2mpl.get_map('PuRd', 'Sequential', 4, reverse=True)\n",
      "cmaps = [brewer2mpl.get_map(i, 'Sequential', 4) for i in ('Blues', 'Greens', 'Oranges')]\n",
      "ymax = np.array([\n",
      "    [.15, .06, .6],\n",
      "    [.06, .03, .6],\n",
      "    [.04, .02, .6]\n",
      "])\n",
      "ynbin = np.array([\n",
      "    [3, 3, 3],\n",
      "    [3, 3, 3],\n",
      "    [2, 2, 3]\n",
      "])\n",
      "\n",
      "fig, axes = plt.subplots(nrows=model.shape[0], ncols=model.shape[1], sharex='col', figsize=(figwidth, 2*figheight))\n",
      "\n",
      "for idx, ax in np.ndenumerate(axes):\n",
      "    for n, x in enumerate(model[idx]):\n",
      "        #etas = dsn.lhs[ic][n, 3]\n",
      "        ax.plot(dsn.npart, x, color=cmaps[idx[0]].mpl_colors[2], lw=.75, alpha=.25)\n",
      "        \n",
      "    #ax.plot(exp[idx][0], exp[idx][1], 'o', color='SkyBlue', ms=5)\n",
      "    #ax.errorbar(exp[idx][0], exp[idx][1], yerr=(exp[idx][4], exp[idx][3]), fmt='o', color='DodgerBlue',\n",
      "    #            ms=5, lw=1.5, capthick=1.5)\n",
      "    d = exp[idx]\n",
      "    ax.errorbar(d[0], d[1], yerr=(d[4], d[3]), fmt='o',\n",
      "                color='#262626', mec='#262626', ms=3.5, lw=1, capthick=1, capsize=2)\n",
      "    \n",
      "    if ax.is_first_row():\n",
      "        ax.set_title(labels[idx[1]])\n",
      "        \n",
      "    if ax.is_last_row():\n",
      "        ax.set_xlabel(r'$N_\\mathrm{part}$')\n",
      "            \n",
      "    #if ax.is_first_col():\n",
      "    #    ax.set_ylabel('$v_{}$'.format(dsn.vn[idx[0]]))\n",
      "            \n",
      "    ax.set_xlim(0., 410.)\n",
      "    ax.set_ylim(0., ymax[idx])\n",
      "        \n",
      "    ax.xaxis.set_major_locator(tick.MaxNLocator(nbins=5))\n",
      "    ax.yaxis.set_major_locator(tick.MaxNLocator(nbins=ynbin[idx]))\n",
      "    \n",
      "    for spine in 'top', 'right':\n",
      "        ax.spines[spine].set_visible(False)\n",
      "\n",
      "fig.tight_layout(pad=0, h_pad=1.5*wpad, w_pad=wpad)\n",
      "plt.savefig('lhs-cent-{}'.format(ic))\n",
      "plt.close()"
     ],
     "language": "python",
     "metadata": {},
     "outputs": [],
     "prompt_number": 43
    },
    {
     "cell_type": "code",
     "collapsed": false,
     "input": [
      "pcagp = PCAGaussianProcess.from_cache_dir(resultspath + 'emu/cache/' + ic)"
     ],
     "language": "python",
     "metadata": {},
     "outputs": [],
     "prompt_number": 44
    },
    {
     "cell_type": "code",
     "collapsed": false,
     "input": [
      "def predictcent(*p):\n",
      "    X = np.array([\n",
      "        [n] + list(p) for n in dsn.npart\n",
      "    ])\n",
      "    y = pcagp.predict(X, eval_MSE=False).T\n",
      "    mean = y[::2]\n",
      "    width = y[1::2]\n",
      "    ratio = width/mean\n",
      "    return mean, width, ratio"
     ],
     "language": "python",
     "metadata": {},
     "outputs": [],
     "prompt_number": 45
    },
    {
     "cell_type": "code",
     "collapsed": false,
     "input": [
      "if ic == 'glb':\n",
      "    pred = [predictcent(56.763, .118, .6, es, .5) for es in (.04, .08, .12, .16)]\n",
      "if ic == 'kln':\n",
      "    pred = [predictcent(9.92, .138, .6, es, .5) for es in (.12, .16, .20, .24)]\n",
      "    \n",
      "cmaps = [brewer2mpl.get_map(i, 'Sequential', 6, reverse=True) for i in ('Blues', 'Greens', 'Oranges')]\n",
      "\n",
      "labels = r'$\\langle v_n \\rangle$', r'$\\sigma_{v_n}$', r'$\\sigma_{v_n} / \\langle v_n \\rangle$'\n",
      "\n",
      "fig, axes = plt.subplots(ncols=model.shape[1])\n",
      "\n",
      "for n, ax in enumerate(axes):\n",
      "    for i, p in enumerate(pred):\n",
      "        for j, vn in enumerate(p[n]):\n",
      "            ax.plot(dsn.npart, vn, lw=1.5, color=cmaps[j].mpl_colors[i], zorder=1)   \n",
      "\n",
      "    for d in exp[:,n]:\n",
      "        ax.errorbar(d[0], d[1], yerr=(d[4], d[3]), fmt='o',\n",
      "                    color=grey, mec='white', ms=3.5, lw=1, capthick=1, capsize=2, zorder=2)\n",
      "        \n",
      "    ax.set_title(labels[n])\n",
      "    ax.set_xlabel(r'$N_\\mathrm{part}$')\n",
      "    \n",
      "    ax.set_xlim(0., 410.)\n",
      "    ax.set_ylim(bottom=0., top=(.14, .05, .6)[n])\n",
      "    \n",
      "    ax.xaxis.set_major_locator(tick.MaxNLocator(nbins=5))\n",
      "    ax.yaxis.set_major_locator(tick.MaxNLocator(nbins=4 if n == 0 else 3))\n",
      "    \n",
      "    for spine in 'top', 'right':\n",
      "        ax.spines[spine].set_visible(False)    \n",
      "\n",
      "fig.tight_layout(pad=0, w_pad=wpad)\n",
      "plt.savefig('emu-cent-{}'.format(ic))\n",
      "plt.close()"
     ],
     "language": "python",
     "metadata": {},
     "outputs": [],
     "prompt_number": 46
    },
    {
     "cell_type": "code",
     "collapsed": false,
     "input": [
      "Xetas = np.linspace(0, .3, 50)\n",
      "def predictetas(*p):\n",
      "    X = np.array([\n",
      "        list(p)[:4] + [es, p[4]] for es in Xetas\n",
      "    ])\n",
      "    y = pcagp.predict(X, eval_MSE=False).T\n",
      "    mean = y[::2]\n",
      "    width = y[1::2]\n",
      "    ratio = width/mean\n",
      "    return mean, width, ratio\n",
      "#predictetas(dsn.npart[2], 55., .05, .6, .5)"
     ],
     "language": "python",
     "metadata": {},
     "outputs": [],
     "prompt_number": 47
    },
    {
     "cell_type": "code",
     "collapsed": false,
     "input": [
      "npa = dsn.npart[2]\n",
      "\n",
      "if ic == 'glb':\n",
      "    pred = [predictetas(npa, 55., a, .6, .5) for a in (.06, .12, .18, .24)]\n",
      "if ic == 'kln':\n",
      "    pred = [predictetas(npa, 9.92, l, .6, .5) for l in (.1, .15, .20, .25)]\n",
      "    \n",
      "cmaps = [brewer2mpl.get_map(i, 'Sequential', 6, reverse=True) for i in ('Blues', 'Greens', 'Oranges')]\n",
      "\n",
      "labels = r'$\\langle v_n \\rangle$', r'$\\sigma_{v_n}$', r'$\\sigma_{v_n} / \\langle v_n \\rangle$'\n",
      "\n",
      "fig, axes = plt.subplots(ncols=model.shape[1])\n",
      "\n",
      "for n, ax in enumerate(axes):\n",
      "    for d in exp[:,n]:\n",
      "        cond = d[0] == npa\n",
      "        middle = d[1][cond]\n",
      "        high = middle + d[3][cond]\n",
      "        low = middle - d[4][cond]\n",
      "        ax.axhline(middle, color='#262626', ls='dashed')\n",
      "        ax.axhspan(low, high, color='#262626', alpha=.15)\n",
      "     \n",
      "    for i, p in enumerate(pred):\n",
      "        for j, vn in enumerate(p[n]):\n",
      "            ax.plot(Xetas, vn, lw=1.5, color=cmaps[j].mpl_colors[i])     \n",
      "            \n",
      "    ax.set_title(labels[n])\n",
      "    ax.set_xlabel(r'$\\eta/s$')\n",
      "    \n",
      "    ax.set_xlim(0., .3)\n",
      "    ax.set_ylim(0., (.12, .05, .6)[n])\n",
      "    \n",
      "    ax.xaxis.set_major_locator(tick.MultipleLocator(.08))\n",
      "    ax.yaxis.set_major_locator(tick.MaxNLocator(nbins=3))\n",
      "    \n",
      "    for spine in 'top', 'right':\n",
      "        ax.spines[spine].set_visible(False)    \n",
      "\n",
      "fig.tight_layout(pad=0, w_pad=wpad)\n",
      "plt.savefig('emu-etas-{}'.format(ic))\n",
      "plt.close()"
     ],
     "language": "python",
     "metadata": {},
     "outputs": [],
     "prompt_number": 48
    }
   ],
   "metadata": {}
  }
 ]
}
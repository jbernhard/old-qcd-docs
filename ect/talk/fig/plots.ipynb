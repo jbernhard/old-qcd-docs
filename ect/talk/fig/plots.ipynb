{
 "metadata": {
  "name": "",
  "signature": "sha256:acef1e0fe9816aef114f9eeddf0f2bf2fbb33c890764d2b6479178c0a2f1c3df"
 },
 "nbformat": 3,
 "nbformat_minor": 0,
 "worksheets": [
  {
   "cells": [
    {
     "cell_type": "code",
     "collapsed": false,
     "input": [
      "import numpy as np\n",
      "import matplotlib.pyplot as plt\n",
      "import matplotlib.ticker as tick\n",
      "import brewer2mpl\n",
      "import ebedesign as dsn\n",
      "from pca_gaussian_process import PCAGaussianProcess"
     ],
     "language": "python",
     "metadata": {},
     "outputs": [],
     "prompt_number": 1
    },
    {
     "cell_type": "code",
     "collapsed": false,
     "input": [
      "resolution = 72.27\n",
      "textwidth, textheight = (i/resolution for i in (307.28987, .85*261.14662))\n",
      "textiny, texsmall, texnormal, texlarge = 5.5, 7., 8., 9.\n",
      "\n",
      "plt.rcParams.update({\n",
      "    'font.family': 'sans-serif',\n",
      "    'font.size': texsmall,\n",
      "    'axes.labelsize': texsmall,\n",
      "    'axes.titlesize': texlarge,\n",
      "    'xtick.labelsize': textiny,\n",
      "    'ytick.labelsize': textiny,\n",
      "    'legend.fontsize': texsmall,\n",
      "    'xtick.major.pad': 1.9,\n",
      "    'ytick.major.pad': 1.7,\n",
      "    'mathtext.fontset': 'custom',\n",
      "    'mathtext.rm': 'sans',\n",
      "    'mathtext.it': 'sans:italic',\n",
      "    'mathtext.bf': 'sans:bold',\n",
      "    'mathtext.sf': 'sans',\n",
      "    'axes.linewidth': .4,\n",
      "    'lines.linewidth': .5,\n",
      "    'figure.dpi': resolution,\n",
      "    'figure.figsize': (textwidth, textheight)\n",
      "})\n",
      "\n",
      "grey = plt.rcParams['text.color']\n",
      "resultspath = '../../../../ebe/results/'"
     ],
     "language": "python",
     "metadata": {},
     "outputs": [],
     "prompt_number": 2
    },
    {
     "cell_type": "code",
     "collapsed": false,
     "input": [
      "ic = dsn.IC[0]\n",
      "ic"
     ],
     "language": "python",
     "metadata": {},
     "outputs": [
      {
       "metadata": {},
       "output_type": "pyout",
       "prompt_number": 3,
       "text": [
        "'glb'"
       ]
      }
     ],
     "prompt_number": 3
    },
    {
     "cell_type": "code",
     "collapsed": false,
     "input": [
      "[brewer2mpl.get_map(i, 'Sequential', 6, reverse=True).hex_colors[0].lower() for i in ('Blues', 'Greens', 'Oranges')]"
     ],
     "language": "python",
     "metadata": {},
     "outputs": [
      {
       "metadata": {},
       "output_type": "pyout",
       "prompt_number": 8,
       "text": [
        "['#08519c', '#006d2c', '#a63603']"
       ]
      }
     ],
     "prompt_number": 8
    },
    {
     "cell_type": "code",
     "collapsed": false,
     "input": [
      "def load_flow_params(ic, c, n):\n",
      "    mean, width = dsn.remove_outlier(np.loadtxt(resultspath + 'model/flow/{}/{}_v{}.dat'.format(ic, c, n))).T\n",
      "    ratio = width/mean\n",
      "    return np.array((mean, width, ratio)).T\n",
      "\n",
      "model = np.array([\n",
      "    [load_flow_params(ic, c, n) for n in dsn.vn] for c in dsn.cent\n",
      "]).transpose(1, 3, 2, 0)\n",
      "\n",
      "# vn, param, dpoint, cent\n",
      "model.shape"
     ],
     "language": "python",
     "metadata": {},
     "outputs": [
      {
       "metadata": {},
       "output_type": "pyout",
       "prompt_number": 4,
       "text": [
        "(3, 3, 255, 6)"
       ]
      }
     ],
     "prompt_number": 4
    },
    {
     "cell_type": "code",
     "collapsed": false,
     "input": [
      "exp = np.array([\n",
      "    [np.loadtxt(resultspath + 'exp/v{}_{}.dat'.format(n, p), unpack=True) for p in ('mean', 'width', 'ratio')] for n in dsn.vn\n",
      "])\n",
      "\n",
      "# vn, param, (npart, value, stat, syshigh, syslow)\n",
      "exp.shape"
     ],
     "language": "python",
     "metadata": {},
     "outputs": [
      {
       "metadata": {},
       "output_type": "pyout",
       "prompt_number": 5,
       "text": [
        "(3, 3, 5)"
       ]
      }
     ],
     "prompt_number": 5
    },
    {
     "cell_type": "code",
     "collapsed": false,
     "input": [
      "labels = r'$\\langle v_n \\rangle$', r'$\\sigma_{v_n}$', r'$\\sigma_{v_n} / \\langle v_n \\rangle$'\n",
      "#cmap = brewer2mpl.get_map('PuRd', 'Sequential', 4, reverse=True)\n",
      "cmaps = [brewer2mpl.get_map(i, 'Sequential', 4) for i in ('Blues', 'Greens', 'Oranges')]\n",
      "ymax = np.array([\n",
      "    [.15, .06, .6],\n",
      "    [.06, .03, .6],\n",
      "    [.04, .02, .6]\n",
      "])\n",
      "ynbin = np.array([\n",
      "    [3, 3, 3],\n",
      "    [3, 3, 3],\n",
      "    [2, 2, 3]\n",
      "])\n",
      "\n",
      "fig, axes = plt.subplots(nrows=model.shape[0], ncols=model.shape[1], sharex='col')\n",
      "\n",
      "for idx, ax in np.ndenumerate(axes):\n",
      "    for n, x in enumerate(model[idx]):\n",
      "        #etas = dsn.lhs[ic][n, 3]\n",
      "        ax.plot(dsn.npart, x, color=cmaps[idx[0]].mpl_colors[2], lw=.3, alpha=.2, zorder=1)\n",
      "        \n",
      "    #ax.plot(exp[idx][0], exp[idx][1], 'o', color='SkyBlue', ms=5)\n",
      "    #ax.errorbar(exp[idx][0], exp[idx][1], yerr=(exp[idx][4], exp[idx][3]), fmt='o', color='DodgerBlue',\n",
      "    #            ms=5, lw=1.5, capthick=1.5)\n",
      "    d = exp[idx]\n",
      "    ax.errorbar(d[0], d[1], yerr=(d[4], d[3]), fmt='o',\n",
      "                color='#262626', mec='#262626', ms=.7, lw=.3, capthick=.3, capsize=.5, zorder=1)\n",
      "    \n",
      "    if ax.is_first_row():\n",
      "        ax.set_title(labels[idx[1]])\n",
      "        \n",
      "    if ax.is_last_row():\n",
      "        ax.set_xlabel(r'$N_\\mathrm{part}$')\n",
      "            \n",
      "    if ax.is_first_col():\n",
      "        ax.set_ylabel('$v_{}$'.format(dsn.vn[idx[0]]), color=cmaps[idx[0]].mpl_colors[-1])\n",
      "            \n",
      "    ax.set_xlim(0., 410.)\n",
      "    ax.set_ylim(0., ymax[idx])\n",
      "        \n",
      "    ax.xaxis.set_major_locator(tick.MaxNLocator(nbins=5))\n",
      "    ax.yaxis.set_major_locator(tick.MaxNLocator(nbins=ynbin[idx]))\n",
      "    \n",
      "    for spine in 'top', 'right':\n",
      "        ax.spines[spine].set_visible(False)\n",
      "\n",
      "fig.tight_layout(pad=0, h_pad=.1, w_pad=0)\n",
      "plt.savefig('lhs-cent-{}'.format(ic))\n",
      "plt.close()"
     ],
     "language": "python",
     "metadata": {},
     "outputs": [
      {
       "output_type": "stream",
       "stream": "stderr",
       "text": [
        "/usr/lib/python3.4/site-packages/matplotlib/font_manager.py:1236: UserWarning: findfont: Font family ['cursive'] not found. Falling back to Bitstream Vera Sans\n",
        "  (prop.get_family(), self.defaultFamily[fontext]))\n",
        "/usr/lib/python3.4/site-packages/matplotlib/mathtext.py:868: MathTextWarning: Substituting with a symbol from Computer Modern.\n",
        "  MathTextWarning)\n"
       ]
      }
     ],
     "prompt_number": 6
    },
    {
     "cell_type": "code",
     "collapsed": false,
     "input": [
      "pcagp = PCAGaussianProcess.from_cache_dir(resultspath + 'emu/cache/' + ic)"
     ],
     "language": "python",
     "metadata": {},
     "outputs": [],
     "prompt_number": 7
    },
    {
     "cell_type": "code",
     "collapsed": false,
     "input": [
      "def predictcent(*p):\n",
      "    X = np.array([\n",
      "        [n] + list(p) for n in dsn.npart\n",
      "    ])\n",
      "    y = pcagp.predict(X, eval_MSE=False).T\n",
      "    mean = y[::2]\n",
      "    width = y[1::2]\n",
      "    ratio = width/mean\n",
      "    return mean, width, ratio"
     ],
     "language": "python",
     "metadata": {},
     "outputs": [],
     "prompt_number": 11
    },
    {
     "cell_type": "code",
     "collapsed": false,
     "input": [
      "icetas = dict(glb=(.04, .08, .12, .16), kln=(.12, .16, .20, .24))\n",
      "\n",
      "if ic == 'glb':\n",
      "    pred = [predictcent(56.763, .118, .6, es, .5) for es in icetas[ic]]\n",
      "if ic == 'kln':\n",
      "    pred = [predictcent(9.92, .138, .6, es, .5) for es in icetas[ic]]\n",
      "    \n",
      "cmaps = [brewer2mpl.get_map(i, 'Sequential', 6, reverse=True) for i in ('Blues', 'Greens', 'Oranges')]\n",
      "\n",
      "labels = r'$\\langle v_n \\rangle$', r'$\\sigma_{v_n}$', r'$\\sigma_{v_n} / \\langle v_n \\rangle$'\n",
      "\n",
      "fig, axes = plt.subplots(ncols=model.shape[1], figsize=(textwidth, .7*textheight))\n",
      "\n",
      "for n, ax in enumerate(axes):\n",
      "    for i, p in enumerate(pred):\n",
      "        for j, vn in enumerate(p[n]):\n",
      "            ax.plot(dsn.npart, vn, lw=.5, color=cmaps[j].mpl_colors[i], zorder=1)   \n",
      "\n",
      "    for d in exp[:,n]:\n",
      "        ax.errorbar(d[0], d[1], yerr=(d[4], d[3]), fmt='o',\n",
      "                    color=grey, mec=grey, ms=.7, lw=.3, capthick=.3, capsize=.5, zorder=2)\n",
      "        \n",
      "    ax.set_title(labels[n])\n",
      "    ax.set_xlabel(r'$N_\\mathrm{part}$')\n",
      "    \n",
      "    ax.set_xlim(0., 410.)\n",
      "    ax.set_ylim(bottom=0., top=(.14, .05, .6)[n])\n",
      "    \n",
      "    ax.xaxis.set_major_locator(tick.MaxNLocator(nbins=5))\n",
      "    ax.yaxis.set_major_locator(tick.MaxNLocator(nbins=4 if n == 0 else 3))\n",
      "    \n",
      "    for spine in 'top', 'right':\n",
      "        ax.spines[spine].set_visible(False)    \n",
      "\n",
      "    if ax.is_first_col():\n",
      "        ax.annotate(\n",
      "            '$\\\\eta/s$\\n' + '\\n'.join('{:.2f}'.format(es) for es in icetas[ic]),\n",
      "            (.7, .95), xycoords='axes fraction', ha='left', va='top', size=textiny\n",
      "        )\n",
      "        \n",
      "fig.tight_layout(pad=0, w_pad=0)\n",
      "plt.savefig('emu-cent-{}'.format(ic))\n",
      "plt.close()"
     ],
     "language": "python",
     "metadata": {},
     "outputs": [],
     "prompt_number": 34
    },
    {
     "cell_type": "code",
     "collapsed": false,
     "input": [
      "Xetas = np.linspace(0, .3, 50)\n",
      "def predictetas(*p):\n",
      "    X = np.array([\n",
      "        list(p)[:4] + [es, p[4]] for es in Xetas\n",
      "    ])\n",
      "    y = pcagp.predict(X, eval_MSE=False).T\n",
      "    mean = y[::2]\n",
      "    width = y[1::2]\n",
      "    ratio = width/mean\n",
      "    return mean, width, ratio\n",
      "#predictetas(dsn.npart[2], 55., .05, .6, .5)"
     ],
     "language": "python",
     "metadata": {},
     "outputs": [],
     "prompt_number": 35
    },
    {
     "cell_type": "code",
     "collapsed": false,
     "input": [
      "npa = dsn.npart[2]\n",
      "\n",
      "icp = dict(glb=(.06, .12, .18, .24), kln=(.1, .15, .20, .25))\n",
      "\n",
      "if ic == 'glb':\n",
      "    pred = [predictetas(npa, 55., a, .6, .5) for a in icp[ic]]\n",
      "if ic == 'kln':\n",
      "    pred = [predictetas(npa, 9.92, l, .6, .5) for l in icp[ic]]\n",
      "    \n",
      "cmaps = [brewer2mpl.get_map(i, 'Sequential', 6, reverse=True) for i in ('Blues', 'Greens', 'Oranges')]\n",
      "\n",
      "labels = r'$\\langle v_n \\rangle$', r'$\\sigma_{v_n}$', r'$\\sigma_{v_n} / \\langle v_n \\rangle$'\n",
      "\n",
      "fig, axes = plt.subplots(ncols=model.shape[1], figsize=(textwidth, .7*textheight))\n",
      "\n",
      "for n, ax in enumerate(axes):\n",
      "    for d in exp[:,n]:\n",
      "        cond = d[0] == npa\n",
      "        middle = d[1][cond]\n",
      "        high = middle + d[3][cond]\n",
      "        low = middle - d[4][cond]\n",
      "        ax.axhline(middle, color=grey, ls='solid', lw=.3, zorder=2)\n",
      "        ax.axhspan(low, high, fc=grey, ec=grey, alpha=.11, zorder=1)\n",
      "     \n",
      "    for i, p in enumerate(pred):\n",
      "        for j, vn in enumerate(p[n]):\n",
      "            ax.plot(Xetas, vn, lw=.5, color=cmaps[j].mpl_colors[i], zorder=3)\n",
      "            \n",
      "    ax.set_title(labels[n])\n",
      "    ax.set_xlabel(r'$\\eta/s$')\n",
      "    \n",
      "    ax.set_xlim(0., .3)\n",
      "    ax.set_ylim(0., (.12, .05, .6)[n])\n",
      "    \n",
      "    ax.xaxis.set_major_locator(tick.MultipleLocator(.08))\n",
      "    ax.yaxis.set_major_locator(tick.MaxNLocator(nbins=3))\n",
      "    \n",
      "    for spine in 'top', 'right':\n",
      "        ax.spines[spine].set_visible(False)\n",
      "          \n",
      "    if ax.is_first_col():\n",
      "        ax.annotate(\n",
      "            {'glb': r'$\\alpha$', 'kln': r'$\\lambda$'}[ic] + '\\n' + '\\n'.join('{:.2f}'.format(p) for p in reversed(icp[ic])),\n",
      "            (.4, .6), xycoords='axes fraction', ha='left', va='top', size=textiny\n",
      "        )\n",
      "        \n",
      "fig.tight_layout(pad=0, w_pad=0)\n",
      "plt.savefig('emu-etas-{}'.format(ic))\n",
      "plt.close()"
     ],
     "language": "python",
     "metadata": {},
     "outputs": [],
     "prompt_number": 43
    },
    {
     "cell_type": "code",
     "collapsed": false,
     "input": [
      "import scipy.special as sp\n",
      "\n",
      "def rice_pdf(v, vrp, dv, exp=np.exp, i0=sp.i0, n2n=np.nan_to_num):\n",
      "    dv2 = dv*dv\n",
      "    return v / dv2 * exp(-0.5*(v*v+vrp*vrp)/dv2) * n2n(i0(v*vrp/dv2))"
     ],
     "language": "python",
     "metadata": {},
     "outputs": [],
     "prompt_number": 67
    },
    {
     "cell_type": "code",
     "collapsed": false,
     "input": [
      "#ic_ = 'glb'\n",
      "vn_ = 2\n",
      "cent_ = '20-25'\n",
      "dir_ = '../../../../ebe/old-results/'\n",
      "flowparams = [\n",
      "    dsn.remove_outlier(np.loadtxt(dir_+'fits/flowparams_{}_v{}_{}.dat'.format(ic_, vn_, cent_), usecols=(0, 1))) for ic_ in dsn.IC\n",
      "]\n",
      "\n",
      "cmap = brewer2mpl.get_map('Blues', 'Sequential', 6, reverse=True)"
     ],
     "language": "python",
     "metadata": {},
     "outputs": [],
     "prompt_number": 104
    },
    {
     "cell_type": "code",
     "collapsed": false,
     "input": [
      "atlas_ = np.loadtxt(resultspath + 'exp/flowdists/v{}_{}.dat'.format(vn_, cent_), unpack=True)"
     ],
     "language": "python",
     "metadata": {},
     "outputs": [],
     "prompt_number": 102
    },
    {
     "cell_type": "code",
     "collapsed": false,
     "input": [
      "fig, axes = plt.subplots(ncols=len(dsn.IC), figsize=(textwidth, .6*textheight))\n",
      "\n",
      "Xmax = atlas_[0].max() + atlas_[0].min()\n",
      "\n",
      "for n, ax in enumerate(axes):\n",
      "    X = np.linspace(1e-8, Xmax, 200)\n",
      "    \n",
      "    for k, p in enumerate(flowparams[n]):\n",
      "        ax.plot(X, rice_pdf(X, *p), color=cmap.mpl_colors[k % 3], lw=.25, alpha=.15, zorder=1)\n",
      "    \n",
      "    ax.plot(atlas_[0], atlas_[1], '-', color=grey, lw=.5, zorder=3)\n",
      "    ax.fill_between(atlas_[0], atlas_[1]+atlas_[3], atlas_[1]-atlas_[4], color=grey, alpha=.35, zorder=2)\n",
      "    \n",
      "    ax.set_xlabel('$v_{}$'.format(vn_))\n",
      "        \n",
      "    if ax.is_first_col():\n",
      "        ax.set_ylabel('$P(v_{})$'.format(vn_))\n",
      "        \n",
      "    ax.set_yticks([])\n",
      "    ax.set_xlim(0, Xmax)\n",
      "    \n",
      "    ax.set_title(('Glauber' if n==0 else 'KLN') + ' ' + cent_ + '%')\n",
      "    \n",
      "    lm = plt.Line2D((0, 1), (0, 0), color=cmap.mpl_colors[1], lw=1.5)\n",
      "    la = plt.Line2D((0, 1), (0, 0), color=grey, lw=1.5)\n",
      "    ax.legend((lm, la), ('Model', 'ATLAS'))\n",
      "\n",
      "\n",
      "\n",
      "fig.tight_layout(pad=.1, w_pad=.5)\n",
      "\n",
      "plt.savefig('lhs-curves')\n",
      "plt.close()"
     ],
     "language": "python",
     "metadata": {},
     "outputs": [],
     "prompt_number": 135
    }
   ],
   "metadata": {}
  }
 ]
}